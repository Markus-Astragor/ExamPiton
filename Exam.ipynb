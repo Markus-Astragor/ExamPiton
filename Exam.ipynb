{
 "cells": [
  {
   "cell_type": "code",
   "execution_count": 3,
   "metadata": {},
   "outputs": [
    {
     "name": "stdout",
     "output_type": "stream",
     "text": [
      "Завдання: Завдання 1, Пріоритет: 1\n",
      "Завдання: Завдання 2, Пріоритет: 2\n",
      "Завдання: Завдання 3, Пріоритет: 3\n"
     ]
    }
   ],
   "source": [
    "# Маркіян Косик:\n",
    "# Організатор завдань з використанням декораторів\n",
    "# Розробіть систему організації завдань, \n",
    "# де кожне завдання має певний пріоритет. Використайте декоратори для присвоєння пріоритетів завданням. \n",
    "# Створіть функції для виведення списку завдань, впорядкованих за пріоритетом, та виконання завдань відповідно до пріоритету.\n",
    "\n",
    "\n",
    "class Task:\n",
    "    def __init__(self, name, priority=0):\n",
    "        self.name = name\n",
    "        self.priority = priority\n",
    "\n",
    "def prioritize(func):\n",
    "    def wrapper(*args, **kwargs):\n",
    "        task = func(*args, **kwargs)\n",
    "        return task\n",
    "    return wrapper\n",
    "    \n",
    "\n",
    "class TaskManagerMeta(type):\n",
    "    _instances = {}\n",
    "\n",
    "    def __call__(cls, *args, **kwargs):\n",
    "        if cls not in cls._instances:\n",
    "            instance = super().__call__(*args, **kwargs)\n",
    "            cls._instances[cls] = instance\n",
    "        return cls._instances[cls]\n",
    "\n",
    "class TaskManager(metaclass=TaskManagerMeta):\n",
    "    def __init__(self):\n",
    "        self.tasks = []\n",
    "\n",
    "    @prioritize\n",
    "    def create_task(self, name, priority):\n",
    "        return Task(name, priority)\n",
    "\n",
    "    def add_task(self, task):\n",
    "        self.tasks.append(task)\n",
    "\n",
    "    def get_sorted_tasks(self):\n",
    "        return sorted(self.tasks, key=lambda x: x.priority)\n",
    "    \n",
    "    def print_tasks(self, tasks):\n",
    "        for task in tasks:\n",
    "            print(f\"Завдання: {task.name}, Пріоритет: {task.priority}\")\n",
    "\n",
    "\n",
    "task_manager = TaskManager()\n",
    "\n",
    "task_manager.add_task(task_manager.create_task(\"Завдання 3\", 3))\n",
    "task_manager.add_task(task_manager.create_task(\"Завдання 1\", 1))\n",
    "task_manager.add_task(task_manager.create_task(\"Завдання 2\", 2))\n",
    "\n",
    "sorted_tasks = task_manager.get_sorted_tasks()\n",
    "task_manager.print_tasks(sorted_tasks)\n"
   ]
  }
 ],
 "metadata": {
  "kernelspec": {
   "display_name": "Python 3",
   "language": "python",
   "name": "python3"
  },
  "language_info": {
   "codemirror_mode": {
    "name": "ipython",
    "version": 3
   },
   "file_extension": ".py",
   "mimetype": "text/x-python",
   "name": "python",
   "nbconvert_exporter": "python",
   "pygments_lexer": "ipython3",
   "version": "3.10.8"
  }
 },
 "nbformat": 4,
 "nbformat_minor": 2
}
