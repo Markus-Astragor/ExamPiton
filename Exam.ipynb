{
 "cells": [
  {
   "cell_type": "code",
   "execution_count": 1,
   "metadata": {},
   "outputs": [
    {
     "ename": "TypeError",
     "evalue": "TaskManager.create_task() got an unexpected keyword argument 'priority'",
     "output_type": "error",
     "traceback": [
      "\u001b[1;31m---------------------------------------------------------------------------\u001b[0m",
      "\u001b[1;31mTypeError\u001b[0m                                 Traceback (most recent call last)",
      "Cell \u001b[1;32mIn[1], line 52\u001b[0m\n\u001b[0;32m     47\u001b[0m             \u001b[38;5;28mprint\u001b[39m(\u001b[38;5;124mf\u001b[39m\u001b[38;5;124m\"\u001b[39m\u001b[38;5;124mЗавдання: \u001b[39m\u001b[38;5;132;01m{\u001b[39;00mtask\u001b[38;5;241m.\u001b[39mname\u001b[38;5;132;01m}\u001b[39;00m\u001b[38;5;124m, Пріоритет: \u001b[39m\u001b[38;5;132;01m{\u001b[39;00mtask\u001b[38;5;241m.\u001b[39mpriority\u001b[38;5;132;01m}\u001b[39;00m\u001b[38;5;124m\"\u001b[39m)\n\u001b[0;32m     50\u001b[0m task_manager \u001b[38;5;241m=\u001b[39m TaskManager()\n\u001b[1;32m---> 52\u001b[0m task_manager\u001b[38;5;241m.\u001b[39madd_task(\u001b[43mtask_manager\u001b[49m\u001b[38;5;241;43m.\u001b[39;49m\u001b[43mcreate_task\u001b[49m\u001b[43m(\u001b[49m\u001b[38;5;124;43m\"\u001b[39;49m\u001b[38;5;124;43mЗавдання 1\u001b[39;49m\u001b[38;5;124;43m\"\u001b[39;49m\u001b[43m,\u001b[49m\u001b[43m \u001b[49m\u001b[43mpriority\u001b[49m\u001b[38;5;241;43m=\u001b[39;49m\u001b[38;5;241;43m1\u001b[39;49m\u001b[43m)\u001b[49m)\n\u001b[0;32m     53\u001b[0m task_manager\u001b[38;5;241m.\u001b[39madd_task(task_manager\u001b[38;5;241m.\u001b[39mcreate_task(\u001b[38;5;124m\"\u001b[39m\u001b[38;5;124mЗавдання 2\u001b[39m\u001b[38;5;124m\"\u001b[39m, priority\u001b[38;5;241m=\u001b[39m\u001b[38;5;241m2\u001b[39m))\n\u001b[0;32m     54\u001b[0m task_manager\u001b[38;5;241m.\u001b[39madd_task(task_manager\u001b[38;5;241m.\u001b[39mcreate_task(\u001b[38;5;124m\"\u001b[39m\u001b[38;5;124mЗавдання 3\u001b[39m\u001b[38;5;124m\"\u001b[39m, priority\u001b[38;5;241m=\u001b[39m\u001b[38;5;241m3\u001b[39m))\n",
      "Cell \u001b[1;32mIn[1], line 16\u001b[0m, in \u001b[0;36mprioritize.<locals>.decorator.<locals>.wrapper\u001b[1;34m(*args, **kwargs)\u001b[0m\n\u001b[0;32m     15\u001b[0m \u001b[38;5;28;01mdef\u001b[39;00m \u001b[38;5;21mwrapper\u001b[39m(\u001b[38;5;241m*\u001b[39margs, \u001b[38;5;241m*\u001b[39m\u001b[38;5;241m*\u001b[39mkwargs):\n\u001b[1;32m---> 16\u001b[0m     task \u001b[38;5;241m=\u001b[39m func(\u001b[38;5;241m*\u001b[39margs, \u001b[38;5;241m*\u001b[39m\u001b[38;5;241m*\u001b[39mkwargs)\n\u001b[0;32m     17\u001b[0m     task\u001b[38;5;241m.\u001b[39mpriority \u001b[38;5;241m=\u001b[39m priority\n\u001b[0;32m     18\u001b[0m     \u001b[38;5;28;01mreturn\u001b[39;00m task\n",
      "\u001b[1;31mTypeError\u001b[0m: TaskManager.create_task() got an unexpected keyword argument 'priority'"
     ]
    }
   ],
   "source": [
    "# Маркіян Косик:\n",
    "# Організатор завдань з використанням декораторів\n",
    "# Розробіть систему організації завдань, \n",
    "# де кожне завдання має певний пріоритет. Використайте декоратори для присвоєння пріоритетів завданням. \n",
    "# Створіть функції для виведення списку завдань, впорядкованих за пріоритетом, та виконання завдань відповідно до пріоритету.\n",
    "\n",
    "\n",
    "class Task:\n",
    "    def __init__(self, name, priority=0):\n",
    "        self.name = name\n",
    "        self.priority = priority\n",
    "\n",
    "def prioritize(priority):\n",
    "    def decorator(func):\n",
    "        def wrapper(*args, **kwargs):\n",
    "            task = func(*args, **kwargs)\n",
    "            task.priority = priority\n",
    "            return task\n",
    "        return wrapper\n",
    "    return decorator\n",
    "\n",
    "class TaskManagerMeta(type):\n",
    "    _instances = {}\n",
    "\n",
    "    def __call__(cls, *args, **kwargs):\n",
    "        if cls not in cls._instances:\n",
    "            instance = super().__call__(*args, **kwargs)\n",
    "            cls._instances[cls] = instance\n",
    "        return cls._instances[cls]\n",
    "\n",
    "class TaskManager(metaclass=TaskManagerMeta):\n",
    "    def __init__(self):\n",
    "        self.tasks = []\n",
    "\n",
    "    @prioritize(priority=0)\n",
    "    def create_task(self, name, priority):\n",
    "        return Task(name, priority)\n",
    "\n",
    "    def add_task(self, task):\n",
    "        self.tasks.append(task)\n",
    "\n",
    "    def get_sorted_tasks(self):\n",
    "        return sorted(self.tasks, key=lambda x: x.priority)\n",
    "    \n",
    "    def print_tasks(self, tasks):\n",
    "        for task in tasks:\n",
    "            print(f\"Завдання: {task.name}, Пріоритет: {task.priority}\")\n",
    "\n",
    "\n",
    "task_manager = TaskManager()\n",
    "\n",
    "task_manager.add_task(task_manager.create_task(\"Завдання 1\", 1))\n",
    "task_manager.add_task(task_manager.create_task(\"Завдання 2\", 2))\n",
    "task_manager.add_task(task_manager.create_task(\"Завдання 3\", 3))\n",
    "\n",
    "sorted_tasks = task_manager.get_sorted_tasks()\n",
    "task_manager.print_tasks(sorted_tasks)\n"
   ]
  }
 ],
 "metadata": {
  "kernelspec": {
   "display_name": "Python 3",
   "language": "python",
   "name": "python3"
  },
  "language_info": {
   "codemirror_mode": {
    "name": "ipython",
    "version": 3
   },
   "file_extension": ".py",
   "mimetype": "text/x-python",
   "name": "python",
   "nbconvert_exporter": "python",
   "pygments_lexer": "ipython3",
   "version": "3.10.8"
  }
 },
 "nbformat": 4,
 "nbformat_minor": 2
}
